{
 "cells": [
  {
   "cell_type": "markdown",
   "metadata": {},
   "source": [
    "## 3. Virtual Machine Setup"
   ]
  },
  {
   "cell_type": "markdown",
   "metadata": {},
   "source": [
    "### Virtualisation\n",
    "\n",
    "One computer can run multiple OS at the same time parallelly.\n",
    "\n",
    "* Before virtualisation:\n",
    "\n",
    "    - Running app/services required Servers\n",
    "    - Physical computers (Servers in datacentre)\n",
    "    - One Service - One Server (Isolation) -> It's like \"putting all the eggs in one basket\"\n",
    "    - Servers are always overprovisioned (If we need 8Gb RAM, we go for 12Gb RAM)\n",
    "    - Server resources mostly underutilised\n",
    "    - Huge capital expenditure and operational expenditure (procuring, stacking, racking, maintaining...)"
   ]
  },
  {
   "cell_type": "markdown",
   "metadata": {},
   "source": [
    "* Enter VMware: Virtualisation concept\n",
    "\n",
    "    - Brought in/Created tools which allowed one computer to run multiple OS\n",
    "    - Partitions physical resources into virtual resources -> Create multiple virtual computers in a physical machine\n",
    "    - Virtual Machines run in Isolated Environment\n",
    "    - Each VM needs its own OS\n",
    "    - Server virtualisation is the most common virtualisation (other types are network virt., storage virt., etc.)\n",
    "\n",
    "![](https://cdn.ttgtmedia.com/rms/onlineimages/virtual_machines-h_half_column_mobile.png)"
   ]
  },
  {
   "cell_type": "markdown",
   "metadata": {},
   "source": [
    "### Terminology\n",
    "\n",
    "* Host OS: The OS of the physical machine.\n",
    "* Guest OS: The OS of the virtual machine or guest machine\n",
    "* VM: Short form for virtual machines\n",
    "* Snapshot: A way of taking backup of the VM\n",
    "* Hypervisor: Tool/Software to create VMs -> Enables virtualisation"
   ]
  },
  {
   "cell_type": "markdown",
   "metadata": {},
   "source": [
    "### Types of Hypervisor\n",
    "\n",
    "* Type 1: Bare Metal\n",
    "\n",
    "    - Runs directly on the physical computer (on the host OS)\n",
    "    - Used only for production purposes\n",
    "    - Can be clustered together (VMs can be distributed on the cluster)\n",
    "    - Tools: VMware esxi or Xen Hypervisor or Hyper-V from Microsoft"
   ]
  },
  {
   "cell_type": "markdown",
   "metadata": {},
   "source": [
    "* Type 2:\n",
    "\n",
    "    - Runs as a software installed on any computer\n",
    "    - Used only for learning and testing purposes\n",
    "    - Tools: Oracle VM VirtualBox, VMware Server\n",
    "\n",
    "![](https://i.stack.imgur.com/TAMdL.png)"
   ]
  },
  {
   "cell_type": "markdown",
   "metadata": {},
   "source": [
    "### Creating VMs\n",
    "\n",
    "We will create two Linux VMs: CentOS VM and Ubuntu VM.\n",
    "\n",
    "Two methods for creating VMs:\n",
    "\n",
    "1. Manual: Wizard-based\n",
    "\n",
    "2. Automated: Through text files and issuing a command (faster and simpler)\n",
    "\n",
    "**IMPORTANT THUMB RULE**:\n",
    "\n",
    "If you want to *Automate* something, make sure you know how to do it *Manually* first.\n",
    "\n",
    "After creating VMs on your computer, we will migrate to AWS where we'll be doing everything on cloud computing."
   ]
  },
  {
   "cell_type": "markdown",
   "metadata": {},
   "source": [
    "### Manual Method\n",
    "\n",
    "Tools:\n",
    "\n",
    "* Oracle VM VirtualBox: Hypervisor (Different for MacOS M1/M2 chips)\n",
    "\n",
    "* ISO file: CentOS & Ubuntu\n",
    "\n",
    "* Login toool: Git Bash & Putty\n",
    "\n",
    "->\n",
    "\n",
    "**Important Requirements**: \n",
    "\n",
    "- Enable virtualisation in BIOS (VTx, Secure virtual machine, virtualization...)\n",
    "\n",
    "- Disable other windows virtualisation (Applications > Turn Windows featureso on or off > ...): Microsoft Hyperv, Windows Hypervisor platform, Windows Subsystem for linux, docker desktop, virtual machine platform\n",
    "\n",
    "- After this, power off your computer > reboot router > power on your computer\n",
    "\n",
    "**Two steps to create a local VM**:\n",
    "\n",
    "1. Create the VM hardware: using the *New* option in Oracle VM VirtualBox and following the steps.\n",
    "\n",
    "2. Install OS on that hardware: Download ISO files for OS and set them up in Oracle VM VirtualBox hardward created for the VMs. Use the *Settings* option > Storage, and also connect the VMs to the computer network adapter (wireless).\n",
    "\n",
    "    - AlmaLinux 9 ISO (https://repo.almalinux.org/almalinux/9/isos/x86_64/)\n",
    "    - Ubuntu 22 Server ISO (https://releases.ubuntu.com/jammy/)\n",
    "\n",
    "Once in the VM, install the OS and connect using SSH connection (through the IP address)\n",
    "\n",
    "**Connect to the VM using GitBash**:\n",
    "\n",
    "* Get the IP address in your VM terminal using the command: `ip addr show`\n",
    "\n",
    "* In your computer, open GitBash and write the following command: `ssh username@ipaddress`, e.g. \n",
    "\n",
    "    `ssh centosuser@10.32.106.20`\n",
    "\n",
    "    Then, confirm the action and enter your password. If you see the terminal starts with `[centosuser@centosvm ~]$`, it means that it's already connected to the virtual machine.\n",
    "\n",
    "    You can exit using `exit`"
   ]
  },
  {
   "cell_type": "markdown",
   "metadata": {},
   "source": [
    "### Automated Method\n",
    "\n",
    "Tools:\n",
    "\n",
    "* Virtualbox: Hypervisor\n",
    "\n",
    "* Vagrant: Creates vms with Vagrantfile\n",
    "\n",
    "* Commands: vagrant up\n",
    "\n",
    "**Vagrant**:\n",
    "\n",
    "It is a tool used on top of a virtualbox to automatically create VMs. When we create or manage a VM manually, there are many issues to solve:\n",
    "\n",
    "* OS installation\n",
    "* Time consuming process (multiply each process times each VM to create/manage): \n",
    "* Manual => Human errors\n",
    "* Tough to replicate multi-VMs\n",
    "* Need to document the entire setup process"
   ]
  },
  {
   "cell_type": "markdown",
   "metadata": {},
   "source": [
    "Vagrant for VMs:\n",
    "\n",
    "* No OS installation: Vagrant uses ready-made VMs stored in their cloud (VM images/boxes)\n",
    "* Vagrantfile: Contains all the VMs settings, which can be changed (e.g. change RAM, CPU, IP address...). This is a text file that can be opened and edited. You can also do *provisioning*, i.e., executing some commands on the OS.\n",
    "* Simple commands: \n",
    "\n",
    "    ```\n",
    "    vagrant init boxname # Mentions box name\n",
    "    vagrant up # Create the VM\n",
    "    vagrant ssh # Login\n",
    "    vagrant halt # Power off\n",
    "    vagrant destroy # Delete\n",
    "    ```\n",
    "\n",
    "    ![](https://cdn.hashnode.com/res/hashnode/image/upload/v1648190169144/75weA4J3W.png?auto=compress,format&format=webp)"
   ]
  },
  {
   "cell_type": "markdown",
   "metadata": {},
   "source": [
    "**Steps to create a VM with Vagrant**:\n",
    "\n",
    "1. Create a folder in your pc where you place a Vagrantfile\n",
    "\n",
    "    - Open GitBash and check the present working directory using: `pwd`\n",
    "    - Create your folder in one of your drives: `mkdir /f/vagrant-vms`\n",
    "    - Change the directory to the location of your folder `cd /f/vagrant-vms/`\n",
    "    - Create the folders for the VMS you want to create: `mkdir centos` and `mkdir ubuntu`\n",
    "    - You can check the folders in your directory using `ls`    \n",
    "    - Go to Vagrant Cloud (https://app.vagrantup.com/boxes/search) and search for a VM box that supports your Hypervisor (i.e., VirtualBox in our case) and copy its name: `config.vm.box = \"vagrant-box-name\"`\n",
    "    - Inside each VM folder (use `cd` to change directory), place a Vagrantfile using the command **`vagrant init`** using the boxname (first you need to find the boxname). For example `vagrant init eurolinux-vagrant/centos-stream-9`\n",
    "    - After this, you can check that a Vagrantfile has been placed in the folder using `ls`\n",
    "    - You can also print the content of the file using **`cat Vagrantfile`**\n",
    "\n",
    "2. Issue the command `vagrant up` to create the VM and then login to the VM using `vagrant ssh`:\n",
    "\n",
    "    - Check that you are in the directory where the Vagrantfile is placed\n",
    "    - Write the command **`vagrant up`**\n",
    "    - Some errors may raise (`Error: schannel` or `vbox hardening 0x...`). These are because of the antivirus, so disable it.\n",
    "    - After running the command, the VM would be up and Vagrant actually downloads the box from Vagrant Cloud to store it on your local machine.\n",
    "    - You can run the command **`vagrant box list`** to see the downloaded boxes\n",
    "    - And **`vagrant status`** to check the status of the VMs (is it running?). If a VM is running, you check on your HyperVisor (VirtualBox) and you will see it appears running.\n",
    "    - If you have several VMs running in different folders, you can use the command **`vagrant global-status`** to check their status\n",
    "    - To login to the VM, you issue the command **`vagrant ssh`** and it will connect automatically. You can check you are connected if the prompt changes to something similar to `[vagrant@localhost ~]$`\n",
    "    - The user can be checked using `whoami`, and the present directory using `pwd`. The command `sudo -i` switches from vagrant user to root user `[root@localhost ~]$`.\n",
    "    - To log out, just run the command `exit`.\n",
    "\n",
    "3. Use `vagrant halt/destroy` to power off/delete the VM.\n",
    "\n",
    "    - The command **`vagrant halt`** will power off the VM\n",
    "    - `vagrant status` should show its status as `poweroff`. You can also check this in your Hypervisor.\n",
    "    - To bring it up again, you can just issue `vagrant up`\n",
    "    - To reboot the VM, issue the command **`vagrant reload`**. This command will re-read the Vagrantfile and apply the changes that you made (if made), but it does not change the boxname\n",
    "    - If you change the box name, you will need to delete and re-create the VM\n",
    "    - The command **`vagrant destroy`** deletes the VM. If you issue `vagrant up` after `vagrant destroy`, it will create the VM again (Remember to run all `vagrant` commands inside the folder where the Vagrantfile is)"
   ]
  },
  {
   "cell_type": "markdown",
   "metadata": {},
   "source": [
    "**Vagrant boxes for CentOS and Ubuntu**:\n",
    "\n",
    "* CentOS 9: https://app.vagrantup.com/eurolinux-vagrant/boxes/centos-stream-9\n",
    "\n",
    "* Ubuntu 22 (Jelly Jammy): https://app.vagrantup.com/ubuntu/boxes/jammy64"
   ]
  },
  {
   "cell_type": "markdown",
   "metadata": {},
   "source": [
    "**Summary of Vagrant commands**:\n",
    "\n",
    "| Vagrant command        | Function                                                                      |\n",
    "|------------------------|-------------------------------------------------------------------------------|\n",
    "| `vagrant init boxname` | Place a Vagrantfile for a boxname from Vagrant Cloud into a directory         |\n",
    "| `cat Vagrantfile`      | Print the content of the Vagrantfile placed in the directory                  |\n",
    "| `vagrant up`           | Create the VM using the settings in the Vagrantfile                           |\n",
    "| `vagrant box list`     | Check the downloaded boxes in the directory                                   |\n",
    "| `vagrant status`       | Shows the status of the VM placed in the directory                            |\n",
    "| `vagrant global-status`| Shows the status of all the VMs in different directories                      |\n",
    "| `vagrant ssh`          | Connect to the VM                                                             |\n",
    "| `vagrant halt`         | Power off the VM                                                              |\n",
    "| `vagrant reload`       | Re-read the settings of the Vagrantfile and apply its changes (same boxname)  |\n",
    "| `vagrant destroy`      | Deletes the VM                                                                |"
   ]
  },
  {
   "cell_type": "markdown",
   "metadata": {},
   "source": []
  }
 ],
 "metadata": {
  "language_info": {
   "name": "python"
  },
  "orig_nbformat": 4
 },
 "nbformat": 4,
 "nbformat_minor": 2
}
