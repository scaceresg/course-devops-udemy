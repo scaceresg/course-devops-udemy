{
 "cells": [
  {
   "cell_type": "markdown",
   "metadata": {},
   "source": [
    "## 2. Virtual Machine Setup"
   ]
  },
  {
   "cell_type": "markdown",
   "metadata": {},
   "source": [
    "### Virtualisation\n",
    "\n",
    "One computer can run multiple OS at the same time parallelly.\n",
    "\n",
    "* Before virtualisation:\n",
    "\n",
    "    - Running app/services required Servers\n",
    "    - Physical computers (Servers in datacentre)\n",
    "    - One Service - One Server (Isolation) -> It's like \"putting all the eggs in one basket\"\n",
    "    - Servers are always overprovisioned (If we need 8Gb RAM, we go for 12Gb RAM)\n",
    "    - Server resources mostly underutilised\n",
    "    - Huge capital expenditure and operational expenditure (procuring, stacking, racking, maintaining...)"
   ]
  },
  {
   "cell_type": "markdown",
   "metadata": {},
   "source": [
    "* Enter VMware: Virtualisation concept\n",
    "\n",
    "    - Brought in/Created tools which allowed one computer to run multiple OS\n",
    "    - Partitions physical resources into virtual resources -> Create multiple virtual computers in a physical machine\n",
    "    - Virtual Machines run in Isolated Environment\n",
    "    - Each VM needs its own OS\n",
    "    - Server virtualisation is the most common virtualisation (other types are network virt., storage virt., etc.)\n",
    "\n",
    "![](https://cdn.ttgtmedia.com/rms/onlineimages/virtual_machines-h_half_column_mobile.png)"
   ]
  },
  {
   "cell_type": "markdown",
   "metadata": {},
   "source": [
    "### Terminology\n",
    "\n",
    "* Host OS: The OS of the physical machine.\n",
    "* Guest OS: The OS of the virtual machine or guest machine\n",
    "* VM: Short form for virtual machines\n",
    "* Snapshot: A way of taking backup of the VM\n",
    "* Hypervisor: Tool/Software to create VMs -> Enables virtualisation"
   ]
  },
  {
   "cell_type": "markdown",
   "metadata": {},
   "source": [
    "### Types of Hypervisor\n",
    "\n",
    "* Type 1: Bare Metal\n",
    "\n",
    "    - Runs directly on the physical computer (on the host OS)\n",
    "    - Used only for production purposes\n",
    "    - Can be clustered together (VMs can be distributed on the cluster)\n",
    "    - Tools: VMware esxi or Xen Hypervisor or Hyper-V from Microsoft"
   ]
  },
  {
   "cell_type": "markdown",
   "metadata": {},
   "source": [
    "* Type 2:\n",
    "\n",
    "    - Runs as a software installed on any computer\n",
    "    - Used only for learning and testing purposes\n",
    "    - Tools: Oracle VM VirtualBox, VMware Server\n",
    "\n",
    "![](https://i.stack.imgur.com/TAMdL.png)"
   ]
  },
  {
   "cell_type": "markdown",
   "metadata": {},
   "source": [
    "### Creating VMs\n",
    "\n",
    "We will create two Linux VMs: CentOS VM and Ubuntu VM.\n",
    "\n",
    "Two methods for creating VMs:\n",
    "\n",
    "1. Manual: Wizard-based\n",
    "\n",
    "2. Automated: Through text files and issuing a command (faster and simpler)\n",
    "\n",
    "**IMPORTANT THUMB RULE**:\n",
    "\n",
    "If you want to *Automate* something, make sure you know how to do it *Manually* first.\n",
    "\n",
    "After creating VMs on your computer, we will migrate to AWS where we'll be doing everything on cloud computing."
   ]
  },
  {
   "cell_type": "markdown",
   "metadata": {},
   "source": [
    "### Manual Method\n",
    "\n",
    "Tools:\n",
    "\n",
    "* Oracle VM VirtualBox: Hypervisor (Different for MacOS M1/M2 chips)\n",
    "\n",
    "* ISO file: CentOS & Ubuntu\n",
    "\n",
    "* Login toool: Git Bash & Putty\n",
    "\n",
    "->\n",
    "\n",
    "**Important Requirement**: Enable virtualisation in BIOS (VTx, Secure virtual machine, virtualization...)"
   ]
  },
  {
   "cell_type": "markdown",
   "metadata": {},
   "source": [
    "### Automated Method\n",
    "\n",
    "Tools:\n",
    "\n",
    "* Virtualbox: Hypervisor\n",
    "\n",
    "* Vagrant: Creates vms with Vagrantfile\n",
    "\n",
    "* Commands: vagrant up"
   ]
  }
 ],
 "metadata": {
  "language_info": {
   "name": "python"
  },
  "orig_nbformat": 4
 },
 "nbformat": 4,
 "nbformat_minor": 2
}
