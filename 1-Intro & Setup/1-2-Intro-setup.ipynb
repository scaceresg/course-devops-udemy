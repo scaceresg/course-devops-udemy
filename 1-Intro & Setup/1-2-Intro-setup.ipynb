{
 "cells": [
  {
   "cell_type": "markdown",
   "metadata": {},
   "source": [
    "## 1. Introduction"
   ]
  },
  {
   "cell_type": "markdown",
   "metadata": {},
   "source": [
    "### Course Content\n",
    "\n",
    "Knowledge about:\n",
    "\n",
    "* Infrastructure\n",
    "\n",
    "* Cloud Computing\n",
    "\n",
    "* Coding\n",
    "\n",
    "*Course Structure*:\n",
    "\n",
    "8 steps:\n",
    "\n",
    "    1. Basics of Linux, virtualisation, networking and server management\n",
    "\n",
    "    2. AWS Cloud Computing and hosting a project on AWS Cloud platform\n",
    "\n",
    "    3. Continuous Integration (CD) and delivery using Jenkins, Nexus, Sonarqube, etc.\n",
    "\n",
    "    4. Bash scripting, Python scripting and automation using scripts\n",
    "\n",
    "    5. Configuration management using Ansible\n",
    "\n",
    "    6. AWS VPC, Beanstalk, CICD and more\n",
    "\n",
    "    7a. Containerisation using Docker\n",
    "\n",
    "    7b. Container orchestration using Kubernetes\n",
    "\n",
    "    8. Cloud automation with Terraform and Cloudformation"
   ]
  },
  {
   "cell_type": "markdown",
   "metadata": {},
   "source": [
    "### What is DevOps?\n",
    "\n",
    "*Software Development Process*:\n",
    "\n",
    "Phase 1. Gathering and analysis\n",
    "\n",
    "    1. Product features\n",
    "    2. Users\n",
    "    3. Usage\n",
    "    4. User requirements\n",
    "    5. Current market state\n",
    "\n",
    "Phase 2. Planning: Determining the cost, resources and risks.\n",
    "\n",
    "Phase 3. Design: Architects design the software based on the inputs from previous phase. The result is some design documents which will be a roadmap for developers.\n",
    "\n",
    "Phase 4. Development. Developers write the software based on the design.\n",
    "\n",
    "Phase 5. Testing. Identifying the defects to ensure that the product quality is good.\n",
    "\n",
    "Phase 6. Deployment. Software is deployed to the production environment so users can start using the product.\n",
    "\n",
    "Final Phase. Maintenance, changes and uptime.\n",
    "\n",
    "This entire process is called **Software Development Lifecycle (SDLC)**.\n",
    "\n",
    "*SDLC Models*:\n",
    "\n",
    "* Waterfall (One phase starts after the previous one is finished) - Hard to get back to previous phases if necessary.\n",
    "\n",
    "* Agile (Requirements are divided into smaller lists and work on each list for 2-4 weeks before moving on to the next one. Give some demostrations on each iteration) - Feedback is easily added on each iteration.\n",
    "\n",
    "* Spiral\n",
    "\n",
    "* Big Bang\n",
    "...etc.\n",
    "\n",
    "*Dev vs Ops*:\n",
    "\n",
    "* Dev: Agile, all about regular and quick changes.\n",
    "\n",
    "* Ops: ITIL-driven (Information Technology Infrastructure Library). Provides a stable environment for the product.\n",
    "\n",
    "Automation is very important in every phase of the SDLC."
   ]
  },
  {
   "cell_type": "markdown",
   "metadata": {},
   "source": [
    "### Continuous Integration\n",
    "\n",
    "CI is an automated process in DevOps, which generates software and its features quickly and efficiently.\n",
    "\n",
    "*Traditional Process*:\n",
    "\n",
    "* The team of developers write code while creating software. It's an ideal practice to store all this code at a centralised repository $\\rightarrow$ *Version Control System*, like GitHub.\n",
    "\n",
    "* Developers pull and push code to such repositories many times, so code changes happen continuously.\n",
    "\n",
    "* The code is moved to the *Build Server*, where it is built, tested and evaluated to generate the software (artifact at this stage). $\\rightarrow$ LOTS OF BUGS AND FAILURES $\\rightarrow$ Get back to developers for fixing these errors (A lot of errors).\n",
    "\n",
    "* The artifact (archive of files) is stored in a software repository and packaged in a specific format (WAR/JAR in Java, DLL/EXE/MSI in Windows or ZIP/TAR).\n",
    "\n",
    "* From the repositories, the software is shipped to the servers for further testing (*Software Testing*). Once approved, the software can be shipped to production servers.\n",
    "\n",
    "*CI*:\n",
    "\n",
    "* When developers are pushing code to the repository, every commit *is built and tested immediately*, so no waiting and collecting all these codes with bugs.\n",
    "\n",
    "* The process should be automated: When developers commit any changes to the code, the automated process should fetch the code, build it, test it and send a failure notification so the developers fix the code and commit it again.\n",
    "\n",
    "* If good, the code is versioned and stored in a software repository.\n",
    "\n",
    "![](https://www.pagerduty.com/wp-content/uploads/2020/01/continuous-integration-2.png)\n",
    "\n",
    "The goal of CI is to detect defects at very early stages, so they don't multiply. This process can be automated using *JENKINS*."
   ]
  },
  {
   "cell_type": "markdown",
   "metadata": {},
   "source": [
    "### CI Tools\n",
    "\n",
    "* IDEs:\n",
    "\n",
    "    - Eclipse, Visual Studio, Atom, Pycharm, ...\n",
    "\n",
    "* Version control system:\n",
    "\n",
    "    - Git, SVN, TFS, Perforce\n",
    "\n",
    "* Build tools (based on the programming language):\n",
    "\n",
    "    - Maven, Ant, Gradle\n",
    "    - MSBuild, Visual Build\n",
    "    - IBM Urban Code\n",
    "    - Make\n",
    "    - Grunt\n",
    "\n",
    "* Software repositories:\n",
    "\n",
    "    - Sonatype Nexus\n",
    "    - JFrog Artifactory\n",
    "    - Archiva\n",
    "    - CloudSmith Package\n",
    "    - Grunt\n",
    "\n",
    "* CI tools:\n",
    "\n",
    "    - Jenkins\n",
    "    - CircleCI\n",
    "    - TeamCity\n",
    "    - Bamboo CI\n",
    "    - Cruise Control"
   ]
  },
  {
   "cell_type": "markdown",
   "metadata": {},
   "source": [
    "### Continuous Delivery\n",
    "\n",
    "CD is an automated process of delivering code changes to servers quickly and efficiently at an enormous phase (as an extension of CI).\n",
    "\n",
    "*Traditional Process*:\n",
    "\n",
    "* Artifacts generated from the automated CI process are stored in software repositories.\n",
    "\n",
    "* Ops team will get regular requests to deploy the artifacts generated from the CI process on servers for further testing.\n",
    "\n",
    "* Ops team deploy the artifacts to the servers, which process can fail or take time. Deployment activities include:\n",
    "\n",
    "    - Server provisioning\n",
    "    - Installing dependencies on servers\n",
    "    - Configuration changes\n",
    "    - Network or firewall rule changes\n",
    "    - Artifact deployment\n",
    "    - More steps?\n",
    "\n",
    "The result is so much human intervention and manual approval in this process.\n",
    "\n",
    "*CD*:\n",
    "\n",
    "Consists of automating all the activities in the deployment process.\n",
    "\n",
    "### CD Tools\n",
    "\n",
    "* System automation:\n",
    "\n",
    "    - Ansible, Puppet, Chef\n",
    "\n",
    "* Cloud infrastructure automation:\n",
    "\n",
    "    - Terraform, CFormation\n",
    "\n",
    "* CICD automation:\n",
    "\n",
    "    - Jenkins, Octopus Deploy\n",
    "\n",
    "* Software testing: functional, load, performance, db, security, etc.\n",
    "\n",
    "Both Devs and Ops team write automation code for software deployment and testing, which is then synced.\n",
    "\n",
    "* Dev Team -> Ops Team -> QA Team\n",
    "* Integrate CI -> Automate Deployment -> Automate Testing"
   ]
  },
  {
   "cell_type": "markdown",
   "metadata": {},
   "source": [
    "## 2. Setup"
   ]
  },
  {
   "cell_type": "markdown",
   "metadata": {},
   "source": [
    "* Project repository: https://github.com/imnowdevops/ddc-material"
   ]
  },
  {
   "cell_type": "markdown",
   "metadata": {},
   "source": [
    "* Tools to install: \n",
    "\n",
    "    - Oracle VM Virtualbox\n",
    "    - Git Bash\n",
    "    - Vagrant\n",
    "    - Chocolatey(Windows)/Brew(MacOS): https://chocolatey.org/ / https://brew.sh/ (IMPORTANT to install other software)\n",
    "    - JDK8\n",
    "    - Maven\n",
    "    - IntelliJ or the IDE of preference\n",
    "    - Sublime Text\n",
    "    - AWS CLI\n",
    "    - Terraform (in the project)"
   ]
  },
  {
   "cell_type": "markdown",
   "metadata": {},
   "source": [
    "* Sign-Ups:\n",
    "\n",
    "    - Github\n",
    "    - Purchase a domain (godaddy)\n",
    "    - Dockerhub\n",
    "    - Sonarcloud"
   ]
  },
  {
   "cell_type": "markdown",
   "metadata": {},
   "source": [
    "* AWS:\n",
    "\n",
    "    - Free-tier account (https://aws.amazon.com/free/)\n",
    "    - IAM with MFA (Multi-Factor Authentification)\n",
    "    - Billing alarm\n",
    "    - Certificate setup"
   ]
  },
  {
   "cell_type": "markdown",
   "metadata": {},
   "source": [
    "**Section 2. Prerequisites Info & Setup** section has all the guidelines for installing tools, signing up to accounts and setting up AWS elements."
   ]
  },
  {
   "cell_type": "markdown",
   "metadata": {},
   "source": []
  }
 ],
 "metadata": {
  "language_info": {
   "name": "python"
  },
  "orig_nbformat": 4
 },
 "nbformat": 4,
 "nbformat_minor": 2
}
