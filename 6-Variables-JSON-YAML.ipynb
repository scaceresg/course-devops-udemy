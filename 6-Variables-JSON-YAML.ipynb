{
 "cells": [
  {
   "cell_type": "markdown",
   "metadata": {},
   "source": [
    "## 6. Variables, JSON & YMAL"
   ]
  },
  {
   "cell_type": "markdown",
   "metadata": {},
   "source": [
    "As DevOps Engineers, it's essential to understand, read & write this data format for data exchange between different applications & languages. JSON & YMAL are very important for Data Exchange."
   ]
  },
  {
   "cell_type": "markdown",
   "metadata": {},
   "source": [
    "### Variables and Python Data Structures\n",
    "\n",
    "In Git Bash:\n",
    "\n",
    "* Strings: `varname=\"value\"` (no spaces). To print its value: `echo $varname`\n",
    "\n",
    "* Integers: `varname=123`. \n",
    "\n",
    "In Python: You already know :)"
   ]
  },
  {
   "cell_type": "markdown",
   "metadata": {},
   "source": [
    "### JSON\n",
    "\n",
    "Let's see its syntax with an example:"
   ]
  },
  {
   "cell_type": "code",
   "execution_count": 5,
   "metadata": {},
   "outputs": [
    {
     "name": "stdout",
     "output_type": "stream",
     "text": [
      "{'skill': 'DevOps', 'year': 2023, 'tech': '', 'GitOps': ''}\n"
     ]
    }
   ],
   "source": [
    "# A sample dictionary\n",
    "devops = {'skill': 'DevOps', 'year': 2023, 'tech': '', 'GitOps': ''}\n",
    "print(devops)"
   ]
  },
  {
   "cell_type": "code",
   "execution_count": 6,
   "metadata": {},
   "outputs": [
    {
     "name": "stdout",
     "output_type": "stream",
     "text": [
      "{'skill': 'DevOps', 'year': 2023, 'tech': {'cloud': 'AWS', 'containers': 'K8s', 'CICD': 'Jenkins'}, 'GitOps': ''}\n"
     ]
    }
   ],
   "source": [
    "# Let's create a dictionary as value for 'tech'\n",
    "tech_dict = {'cloud': 'AWS', 'containers': 'K8s', 'CICD': 'Jenkins'}\n",
    "devops['tech'] = tech_dict\n",
    "\n",
    "print(devops)"
   ]
  },
  {
   "cell_type": "code",
   "execution_count": 7,
   "metadata": {},
   "outputs": [
    {
     "name": "stdout",
     "output_type": "stream",
     "text": [
      "{'skill': 'DevOps', 'year': 2023, 'tech': {'cloud': 'AWS', 'containers': 'K8s', 'CICD': 'Jenkins', 'GitOps': ['GitLab', 'ArgoCD', 'Tekton']}}\n"
     ]
    }
   ],
   "source": [
    "# Let's move 'GitOps' inside the 'tech' dictionary\n",
    "devops.pop('GitOps')\n",
    "devops['tech']['GitOps'] = ['GitLab', 'ArgoCD', 'Tekton']\n",
    "\n",
    "print(devops)"
   ]
  },
  {
   "cell_type": "code",
   "execution_count": 8,
   "metadata": {},
   "outputs": [],
   "source": [
    "# If we open the structure of the dictionary vertically and change '' for \"\"...\n",
    "devops = {\n",
    "            \"skill\": \"DevOps\", \n",
    "            \"year\": 2023, \n",
    "            \"tech\": \n",
    "                {\n",
    "                    \"cloud\": \"AWS\", \n",
    "                    \"containers\": \"K8s\", \n",
    "                    \"CICD\": \"Jenkins\", \n",
    "                    \"GitOps\": \n",
    "                        [\n",
    "                            \"GitLab\", \n",
    "                            \"ArgoCD\", \n",
    "                            \"Tekton\"\n",
    "                        ]\n",
    "                }\n",
    "        }"
   ]
  },
  {
   "cell_type": "markdown",
   "metadata": {},
   "source": [
    "This is JSON syntax. If we open a JSON editor online (e.g., https://jsoneditoronline.org/#left=local.sipuzu), it will read the structure as JSON when you press \"Copy\". In JSON, structures are kept vertical for visibility."
   ]
  },
  {
   "cell_type": "markdown",
   "metadata": {},
   "source": [
    "### YAML\n",
    "\n",
    "If we open a YAML editor online (e.g., https://codebeautify.org/yaml-editor-online), we will need to do some modifications:\n",
    "\n",
    "* Replace `=` with `:`\n",
    "\n",
    "* Remove all the `{}`, `[]`, `\"\"` and `,`\n",
    "\n",
    "* The elements of lists are organised using `-` aligned in the same column with the same spaces.\n",
    "\n",
    "* Give a space between keys and values for the dictionary.\n",
    "\n",
    "* Spacing is very important, so you should keep the columns aligned with the same spaces so the code does not generate errors.\n",
    "\n",
    "The dictionary structure in YAML looks like this:\n",
    "\n",
    "```\n",
    "devops:\n",
    "    skill: DevOps \n",
    "    year: 2023 \n",
    "    tech: \n",
    "        cloud: AWS\n",
    "        containers: K8s\n",
    "        CICD: Jenkins\n",
    "        GitOps: \n",
    "            - GitLab\n",
    "            - ArgoCD\n",
    "            - Tekton\n",
    "```"
   ]
  },
  {
   "cell_type": "markdown",
   "metadata": {},
   "source": [
    "As a DevOps Engineer, you should be able to write YAML and read JSON."
   ]
  }
 ],
 "metadata": {
  "kernelspec": {
   "display_name": "Python 3",
   "language": "python",
   "name": "python3"
  },
  "language_info": {
   "codemirror_mode": {
    "name": "ipython",
    "version": 3
   },
   "file_extension": ".py",
   "mimetype": "text/x-python",
   "name": "python",
   "nbconvert_exporter": "python",
   "pygments_lexer": "ipython3",
   "version": "3.10.1"
  },
  "orig_nbformat": 4
 },
 "nbformat": 4,
 "nbformat_minor": 2
}
