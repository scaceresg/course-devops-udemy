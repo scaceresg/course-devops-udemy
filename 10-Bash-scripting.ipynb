{
 "cells": [
  {
   "cell_type": "markdown",
   "metadata": {},
   "source": [
    "## 10. Bash Scripting"
   ]
  },
  {
   "cell_type": "markdown",
   "metadata": {},
   "source": [
    "As systems admins in the IT industry using Linux systems, there are many tasks that are performed repetitively (regular patching or backups) -> *Robotic Tasks*\n",
    "\n",
    "Instead of doing that every time, you put all the commands in a text file and let the system execute the file for you (bash script). -> The word Bash is for Bash Shell\n",
    "\n",
    "* Kinds of shells:\n",
    "    \n",
    "    - Bourne shell (`sh`): the first default shell on Unix systems, released in 1979\n",
    "\n",
    "    - C shell (`csh`): Linux shell from the late 1970s whose main objective was to improve interactive use and mimic the C language\n",
    "\n",
    "    - Tenex C shell (`tcsh`): extension of the C shell (`csh`) merged in the early 1980s\n",
    "\n",
    "    - KornShell (`ksh`): Unix shell and language based on the Bourne shell (`sh`) developed in the early 1980s\n",
    "\n",
    "    - Debian Almquist shell (`dash`): Unix shell developed in the late 1990s from the Almquist shell (ash), which was ported to Debian and renamed. Dash is famous for being the default shell for Ubuntu and Debian\n",
    "\n",
    "    - Bourne Again shell (`bash`): Unix shell and command language created as an extension of the Bourne shell (sh) in 1989. The shell program is the default login shell for many Linux distributions and earlier versions of macOS."
   ]
  },
  {
   "cell_type": "markdown",
   "metadata": {},
   "source": [
    "### Bash Scripting Practice\n",
    "\n",
    "Let's do the scripting practice using the following `Vagrantfile`:\n",
    "\n",
    "```\n",
    "Vagrant.configure(\"2\") do |config|\n",
    "\n",
    "  config.vm.define \"scriptbox\" do |scriptbox|\n",
    "    scriptbox.vm.box = \"geerlingguy/centos7\"\n",
    "\tscriptbox.vm.network \"private_network\", ip: \"192.168.10.12\"\n",
    "        scriptbox.vm.hostname = \"scriptbox\"\n",
    "\tscriptbox.vm.provider \"virtualbox\" do |vb|\n",
    "     vb.memory = \"1024\"\n",
    "   end\n",
    "  end\n",
    "\n",
    "  config.vm.define \"web01\" do |web01|\n",
    "    web01.vm.box = \"geerlingguy/centos7\"\n",
    "\tweb01.vm.network \"private_network\", ip: \"192.168.10.13\"\n",
    "        web01.vm.hostname = \"web01\"\n",
    "  end\n",
    "  \n",
    "  config.vm.define \"web02\" do |web02|\n",
    "    web02.vm.box = \"geerlingguy/centos7\"\n",
    "\tweb02.vm.network \"private_network\", ip: \"192.168.10.14\"\n",
    "        web02.vm.hostname = \"web02\"\n",
    "  end\n",
    "\n",
    "   config.vm.define \"web03\" do |web03|\n",
    "    web03.vm.box = \"ubuntu/bionic64\"\n",
    "        web03.vm.network \"private_network\", ip: \"192.168.10.15\"\n",
    "        web03.vm.hostname = \"web03\"\n",
    "  end\n",
    "end\n",
    "```"
   ]
  },
  {
   "cell_type": "markdown",
   "metadata": {},
   "source": [
    "* Bring up `scriptbox` VM and create a directory in `/opt/scripts`\n",
    "\n",
    "* A ***script*** is a text file that contains \"bash\" commands. Use `vim` to create a script.\n",
    "\n",
    "    `vim firstscript.sh`\n",
    "\n",
    "* First line is `#!/bin/bash` (path of the interpreter) -> \"Open this interpreter and execute all the commands in this script on that interpreter\"\n",
    "\n",
    "    - If it is a python/ruby script, you'll have the path of a Python/Ruby interpreter\n",
    "    \n",
    "    - Since it is a writing bash script, you have the bash interpreter\n",
    "\n",
    "* Use `echo` to print messages\n",
    "\n",
    "* Use `#` for comments\n",
    "\n",
    "```\n",
    "#!/bin/bash\n",
    "\n",
    "echo \"Welcome to bash script\"\n",
    "echo\n",
    "\n",
    "echo \"The uptime of the system is:\"\n",
    "uptime\n",
    "\n",
    "echo \"Memory Utilization:\"\n",
    "free -m\n",
    "\n",
    "echo \"Disk Utilization:\"\n",
    "df -h\n",
    "```\n",
    "\n",
    "* To run a script, give its absolute or relative path: `./firstscript.sh`\n",
    "\n",
    "* Modify permission if necessary: \n",
    "\n",
    "    - Check execution permissions (4th element): `ls -l` \n",
    "\n",
    "    - Give execution permission: `chmod +x firstscript.sh`\n",
    "\n",
    "    - Now you can execute the script\n"
   ]
  },
  {
   "cell_type": "markdown",
   "metadata": {},
   "source": []
  }
 ],
 "metadata": {
  "language_info": {
   "name": "python"
  },
  "orig_nbformat": 4
 },
 "nbformat": 4,
 "nbformat_minor": 2
}
