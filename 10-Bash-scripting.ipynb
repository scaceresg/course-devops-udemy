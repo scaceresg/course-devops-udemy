{
 "cells": [
  {
   "cell_type": "markdown",
   "metadata": {},
   "source": [
    "## 10. Bash Scripting"
   ]
  },
  {
   "cell_type": "markdown",
   "metadata": {},
   "source": [
    "As systems admins in the IT industry using Linux systems, there are many tasks that are performed repetitively (regular patching or backups) -> *Robotic Tasks*\n",
    "\n",
    "Instead of doing that every time, you put all the commands in a text file and let the system execute the file for you (bash script). -> The word Bash is for Bash Shell\n",
    "\n",
    "* Kinds of shells:\n",
    "    \n",
    "    - Bourne shell (`sh`): the first default shell on Unix systems, released in 1979\n",
    "\n",
    "    - C shell (`csh`): Linux shell from the late 1970s whose main objective was to improve interactive use and mimic the C language\n",
    "\n",
    "    - Tenex C shell (`tcsh`): extension of the C shell (`csh`) merged in the early 1980s\n",
    "\n",
    "    - KornShell (`ksh`): Unix shell and language based on the Bourne shell (`sh`) developed in the early 1980s\n",
    "\n",
    "    - Debian Almquist shell (`dash`): Unix shell developed in the late 1990s from the Almquist shell (ash), which was ported to Debian and renamed. Dash is famous for being the default shell for Ubuntu and Debian\n",
    "\n",
    "    - Bourne Again shell (`bash`): Unix shell and command language created as an extension of the Bourne shell (sh) in 1989. The shell program is the default login shell for many Linux distributions and earlier versions of macOS."
   ]
  },
  {
   "cell_type": "markdown",
   "metadata": {},
   "source": [
    "### Bash Scripting Practice\n",
    "\n",
    "Let's build the VMs in the following "
   ]
  },
  {
   "cell_type": "markdown",
   "metadata": {},
   "source": []
  }
 ],
 "metadata": {
  "language_info": {
   "name": "python"
  },
  "orig_nbformat": 4
 },
 "nbformat": 4,
 "nbformat_minor": 2
}
