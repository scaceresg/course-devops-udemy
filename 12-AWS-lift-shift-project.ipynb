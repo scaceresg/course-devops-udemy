{
 "cells": [
  {
   "cell_type": "markdown",
   "metadata": {},
   "source": [
    "## 12. AWS Cloud for VProfile Project: Lift & Shift"
   ]
  },
  {
   "cell_type": "markdown",
   "metadata": {},
   "source": [
    "### About the Project\n",
    "\n",
    "* Multi-tier web application stack: *VProfile*\n",
    "\n",
    "* Host and run on AWS cloud for production\n",
    "\n",
    "* Lift & Shift strategy is used\n",
    "\n",
    "**Scenario**: Suppose there are many application services running on physical/virtual machines and all the workload is located in a local datacenter.\n",
    "\n",
    "Several teams are required in this current situation: Virtualisation, data center operations team, monitoring team, system administration team, etc.\n",
    "\n",
    "**The Problem of the Current State**:\n",
    "\n",
    "* Managing teams and data gets complex\n",
    "\n",
    "* Even more when you want to scale up or down\n",
    "\n",
    "* Huge costs for procuring and maintaining these resources (Upfront CAPEX and regular OPEX)\n",
    "\n",
    "* Most processes are manual and difficult to automate\n",
    "\n",
    "* Time consuming processes\n",
    "\n",
    "**The Solution**: A Cloud Computing Setup!\n",
    "\n",
    "A Cloud Setup allows:\n",
    "\n",
    "* Avoiding CAPEX \n",
    "\n",
    "* Paying as you go (Like electricity bills)\n",
    "\n",
    "* Consuming IaaS (Infrastructure as a Service)\n",
    "\n",
    "* Flexible \n",
    "\n",
    "* Elastic in nature: we can scale up or down\n",
    "\n",
    "* Control of costs\n",
    "\n",
    "* Automation to avoid human errors and save time"
   ]
  },
  {
   "cell_type": "markdown",
   "metadata": {},
   "source": [
    "### AWS Services\n",
    "\n",
    "* EC2 instances: VMs used for Tomcat, RabbitMQ, Memcache, MySQL servers\n",
    "\n",
    "* ELB (Load Balancer): Replacement for the NGinx LB server\n",
    "\n",
    "* Autoscaling: Automation for VM scaling\n",
    "\n",
    "* S3/EFS storage: Shared storage\n",
    "\n",
    "* Route 53: Private DNS service\n",
    "\n",
    "**Objective**\n",
    "\n",
    "* Flexible infrastructure\n",
    "\n",
    "* Use the Pay as we go model\n",
    "\n",
    "* Modernise the app effectively\n",
    "\n",
    "* Use Infrastructure as a Code (IaaC)"
   ]
  },
  {
   "cell_type": "markdown",
   "metadata": {},
   "source": [
    "### Architecture of AWS services\n",
    "\n",
    "The AWS sources we will be using in the project are:\n",
    "\n",
    "* Amazon Certificate Manager: Used for https certificate\n",
    "\n",
    "* Application Load Balancer\n",
    "\n",
    "* Set of EC2 instances: for Tomcat, Memcache, Rabbit MQ and MySQL\n",
    "\n",
    "* Security groups: 3\n",
    "\n",
    "* Amazon Route 53 for DNS Private Zones\n",
    "\n",
    "* Amazon S3 bucket to store software artifacts\n",
    "\n",
    "![](./vprofile-proj/AWS-architecture.png)"
   ]
  },
  {
   "cell_type": "markdown",
   "metadata": {},
   "source": [
    "### Flow of Execution\n",
    "\n",
    "1. Login to AWS Account\n",
    "\n",
    "2. Create Key Pairs for our instances\n",
    "\n",
    "3. Create Security Groups for LB, Tomcat and backend services\n",
    "\n",
    "4. Launch instances with user data: bash scripts\n",
    "\n",
    "5. Update IP to name mapping in route 53\n",
    "\n",
    "6. Build application from source code\n",
    "\n",
    "7. Upload to S3 bucket\n",
    "\n",
    "8. Download artifact to Tomcat EC2 instance\n",
    "\n",
    "9. Setup ELB with HTTPS (Certificate from Amazon Certificate Manager)\n",
    "\n",
    "10. Map ELB endpoint to website name in GoDaddy's DNS\n",
    "\n",
    "11. Verify\n",
    "\n",
    "12. Build Auto Scaling Group for Tomcat instances"
   ]
  },
  {
   "cell_type": "markdown",
   "metadata": {},
   "source": [
    "The project is located in the repository: [proj-devops-cloud](https://github.com/scaceresg/proj-devops-cloud/tree/513723a92fe45526955bf8e8fec8e7596727e5de/AWS-vprofile-webapp/vprofile-lift%26shift)"
   ]
  }
 ],
 "metadata": {
  "language_info": {
   "name": "python"
  }
 },
 "nbformat": 4,
 "nbformat_minor": 2
}
